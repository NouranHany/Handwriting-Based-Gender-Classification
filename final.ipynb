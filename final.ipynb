{
 "cells": [
  {
   "cell_type": "code",
   "execution_count": null,
   "metadata": {},
   "outputs": [],
   "source": [
    "from sklearn import svm\n",
    "from sklearn.ensemble import RandomForestClassifier\n",
    "from sklearn.neighbors import KNeighborsClassifier\n",
    "from sklearn.model_selection import train_test_split\n",
    "from sklearn.preprocessing import StandardScaler\n",
    "from sklearn.decomposition import PCA\n",
    "from sklearn import metrics\n",
    "import pandas as pd\n",
    "import cv2\n",
    "import numpy as np\n",
    "from sklearn.metrics import  classification_report\n",
    "import features as features\n",
    "import utilities as util"
   ]
  },
  {
   "cell_type": "code",
   "execution_count": null,
   "metadata": {},
   "outputs": [],
   "source": [
    "'''\n",
    "parms: train data (X_train)\n",
    "       test data  (X_test)\n",
    "       train classes  (y_train)\n",
    "\n",
    "----------------------------\n",
    "\n",
    "returns: test classes  (y_test)\n",
    "'''\n",
    "\n",
    "\n",
    "def svm_classify(X_train,y_train,X_test, kernel='rbf'):\n",
    "    clf = svm.SVC(kernel=kernel)\n",
    "    clf.fit(X_train, y_train)\n",
    "#     y_pred = clf.predict(X_test)\n",
    "    return clf"
   ]
  },
  {
   "cell_type": "code",
   "execution_count": null,
   "metadata": {},
   "outputs": [],
   "source": [
    "'''\n",
    "parms: train data (X_train)\n",
    "       test data  (X_test)\n",
    "       train classes  (y_train)\n",
    "\n",
    "----------------------------\n",
    "\n",
    "returns: test classes  (y_test)\n",
    "'''\n",
    "\n",
    "def random_forest_classify(X_train,y_train,X_test, max_depth=2, n_estimators=50):\n",
    "    clf = RandomForestClassifier(max_depth=max_depth, n_estimators=n_estimators)\n",
    "    clf.fit(X_train, y_train)\n",
    "#     y_pred=clf.predict(X_test)\n",
    "    return clf"
   ]
  },
  {
   "cell_type": "code",
   "execution_count": null,
   "metadata": {},
   "outputs": [],
   "source": [
    "'''\n",
    "parms: train data (X_train)\n",
    "       test data  (X_test)\n",
    "       train classes  (y_train)\n",
    "\n",
    "----------------------------\n",
    "\n",
    "returns: test classes  (y_test)\n",
    "'''\n",
    "\n",
    "def knn_classify(X_train,y_train,X_test, n_neighbors=5):\n",
    "        neigh = KNeighborsClassifier(n_neighbors=n_neighbors)\n",
    "        neigh.fit(X_train, y_train)\n",
    "       #  y_pred=neigh.predict(X_test)\n",
    "        return neigh"
   ]
  },
  {
   "cell_type": "code",
   "execution_count": null,
   "metadata": {},
   "outputs": [],
   "source": [
    "'''\n",
    "parms: test classes of models tarined by  --> 1) svm\n",
    "                                              2) random_forest\n",
    "                                              3)knn\n",
    "\n",
    "----------------------------\n",
    "\n",
    "returns: test classes after taking the vote of the 3 classes\n",
    "'''\n",
    "\n",
    "def voting_system(y_pred_svm,y_pred_random_forest,y_pred_knn,y_test):\n",
    "    y_pred=np.add(np.add(y_pred_knn,y_pred_svm),y_pred_random_forest)\n",
    "    y_pred[y_pred <=1]=0\n",
    "    y_pred[y_pred >1]=1  \n",
    "    return y_pred\n"
   ]
  },
  {
   "cell_type": "code",
   "execution_count": null,
   "metadata": {},
   "outputs": [],
   "source": [
    "def apply_PCA(X,n_components=5, verbose=False):\n",
    "    sc = StandardScaler()\n",
    "    X_copy = np.copy(X)\n",
    "    X_copy = sc.fit_transform(X_copy)\n",
    "    pca = PCA(n_components = n_components)\n",
    "    X_copy = pca.fit_transform(X_copy)\n",
    "    \n",
    "    if(verbose):\n",
    "        print(\"preserved vairance: \", np.sum(pca.explained_variance_ratio_))\n",
    "    \n",
    "    return X_copy"
   ]
  },
  {
   "cell_type": "code",
   "execution_count": null,
   "metadata": {},
   "outputs": [],
   "source": [
    "def pre_process(image):\n",
    "    thresh = util.threshold_image(image)\n",
    "    contours, _ = cv2.findContours(thresh, cv2.RETR_TREE, cv2.CHAIN_APPROX_NONE)\n",
    "    return contours"
   ]
  },
  {
   "cell_type": "code",
   "execution_count": null,
   "metadata": {},
   "outputs": [],
   "source": [
    "def extract_hinge(contours):\n",
    "    # extract features\n",
    "    hinge_feature = features.get_hinge_features(contours)\n",
    "\n",
    "    return hinge_feature"
   ]
  },
  {
   "cell_type": "code",
   "execution_count": null,
   "metadata": {},
   "outputs": [],
   "source": [
    "def extract_cold(contours):\n",
    "    cold_feature = features.get_cold_features(contours)\n",
    "    \n",
    "    return cold_feature"
   ]
  },
  {
   "cell_type": "code",
   "execution_count": null,
   "metadata": {},
   "outputs": [],
   "source": [
    "def extract_hog(image):\n",
    "    hog_feature = features.extract_hog_features(image)\n",
    "    return hog_feature\n",
    "    "
   ]
  }
 ],
 "metadata": {
  "language_info": {
   "name": "python"
  },
  "orig_nbformat": 4
 },
 "nbformat": 4,
 "nbformat_minor": 2
}
