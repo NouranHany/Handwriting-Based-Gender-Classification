{
   "cells": [
      {
         "cell_type": "code",
         "execution_count": 25,
         "metadata": {},
         "outputs": [],
         "source": [
            "from sklearn import svm\n",
            "from sklearn.ensemble import RandomForestClassifier\n",
            "from sklearn.neighbors import KNeighborsClassifier\n",
            "from sklearn.model_selection import train_test_split\n",
            "from sklearn.preprocessing import StandardScaler\n",
            "from sklearn.decomposition import PCA\n",
            "from sklearn import metrics\n",
            "import pandas as pd\n",
            "import cv2\n",
            "import numpy as np\n",
            "import features as features\n",
            "import utilities as util\n",
            "import glob"
         ]
      },
      {
         "cell_type": "markdown",
         "metadata": {},
         "source": [
            "### Comparing the Accuracy of the models with features\n",
            "\n",
            "\n",
            "|  | SVM | Random Forest | KNN |  Voting system |\n",
            "| --------------- | --------------- | --------------- | --------------- | --------------- |\n",
            "| Hinge | 66.1% | 71.7% | 68.3% |71.1% |\n",
            "| Hinge + PCA | 76%  | 67%  | 71.9%  | 74.8%|\n",
            "| Cold | 65.4% |   65.8% | 67.6%   | 67.7%   |\n",
            "| Cold + PCA | 65.1%  | 68.6% |  68.5% | 69.5% |\n",
            "| GLCM | 50.0%| 43.5% |41.0%   |43.5%  |\n",
            "| GLCM + PCA (=5) |60.2% |48.7%  | 57.6%  |57.6% |\n",
            "| HOG | 70.4% | 66.5% |  68.5% | 69.4% | Good Precision and Recall!\n",
            "| HOG + PCA(=200)| 70% | 62.9% |  67.9% | 68.2% |\n",
            "\n",
            "\n",
            "### Combining the Features results in accuracy of:\n",
            "\n",
            "\n",
            "|  | SVM | Random Forest | KNN |  Voting system |\n",
            "| --------------- | --------------- | --------------- | --------------- | --------------- |\n",
            "| PCA(Hinge + Cold) of 100  | 72% | 64% |72% | 72.5%| Good precision and recall\n",
            "| PCA(Cold) of 50 + Hinge  | 71% | 71.8% |73% | 73%|\n",
            "| PCA(Hinge + GLCM) of 50  | 74.2% | 66.4% |70% | 73.5%|\n",
            "| PCA(Hinge + Cold + glcm ) of 100  | 72.25% | 64.25% |73% | 72.0%|\n",
            "| PCA(Hinge) + Cold + Hog of 60 | 75% | 71.25% |72.4% | 76%|\n",
            "| Hinge + Hog| 69.6% | 69.7% | 68.5% | 70.9%|\n",
            "| PCA(Hinge) of 40 + PCA(HOG) of 200 + RF_max_depth=5 + n_estimators=25|68.6% | 62% | 68% | 69% |\n",
            "| Hinge + Cold + Hog + RF_max_depth=5 + n_estimators=25 + n_neighbors=5 | 66% | 66% | 67.5% | 66% |\n",
            "| PCA(Hinge)=30 + PCA(Cold)=130 + PCA(Hog)=200 + RF_max_depth=5 + n_estimators=25 + n_neighbors=5 | 73% | 66.4% | 70.5% | 72% |\n",
            "|Hog + Cold| 67% | 68% | 68% | 70% |\n",
            "|PCA(Hog)=200 + PCA(Cold)=120 + RF_max_depth=4 + n_estimators=30| 72% | 65% | 69% | 71.5% |\n",
            "\n",
            "\n",
            "### Final Descision\n",
            "\n",
            "|  | SVM | Random Forest | KNN |  Voting system |\n",
            "| --------------- | --------------- | --------------- | --------------- | --------------- |\n",
            "|Hinge Cold Hog | 80.8% | 71.9% | 75.8% | 78.3% |\n",
            "\n",
            "Features used :\n",
            "SVM: hinge_pca(50 component)\n",
            "Random_forest: hinge \n",
            "knn: X_hinge_pca(50 component)\n",
            "| 76.6% | 72.75% | 75% | 77.1% |"
         ]
      },
      {
         "cell_type": "code",
         "execution_count": 2,
         "metadata": {},
         "outputs": [],
         "source": [
            "'''\n",
            "parms: train data (X_train)\n",
            "       test data  (X_test)\n",
            "       train classes  (y_train)\n",
            "\n",
            "----------------------------\n",
            "\n",
            "returns: test classes  (y_test)\n",
            "'''\n",
            "\n",
            "\n",
            "def svm_classify(X_train,y_train,X_test, kernel='rbf'):\n",
            "    clf = svm.SVC(kernel=kernel)\n",
            "    clf.fit(X_train, y_train)\n",
            "    y_pred = clf.predict(X_test)\n",
            "    return y_pred"
         ]
      },
      {
         "cell_type": "code",
         "execution_count": 3,
         "metadata": {},
         "outputs": [],
         "source": [
            "'''\n",
            "parms: train data (X_train)\n",
            "       test data  (X_test)\n",
            "       train classes  (y_train)\n",
            "\n",
            "----------------------------\n",
            "\n",
            "returns: test classes  (y_test)\n",
            "'''\n",
            "\n",
            "def random_forest_classify(X_train,y_train,X_test, max_depth=2, n_estimators=50):\n",
            "    clf = RandomForestClassifier(max_depth=max_depth, n_estimators=n_estimators)\n",
            "    clf.fit(X_train, y_train)\n",
            "    y_pred=clf.predict(X_test)\n",
            "    return y_pred"
         ]
      },
      {
         "cell_type": "code",
         "execution_count": 4,
         "metadata": {},
         "outputs": [],
         "source": [
            "'''\n",
            "parms: train data (X_train)\n",
            "       test data  (X_test)\n",
            "       train classes  (y_train)\n",
            "\n",
            "----------------------------\n",
            "\n",
            "returns: test classes  (y_test)\n",
            "'''\n",
            "\n",
            "def knn_classify(X_train,y_train,X_test, n_neighbors=5):\n",
            "        neigh = KNeighborsClassifier(n_neighbors=n_neighbors)\n",
            "        neigh.fit(X_train, y_train)\n",
            "        y_pred=neigh.predict(X_test)\n",
            "        return y_pred"
         ]
      },
      {
         "cell_type": "code",
         "execution_count": 5,
         "metadata": {},
         "outputs": [],
         "source": [
            "'''\n",
            "parms: test classes of models tarined by  --> 1) svm\n",
            "                                              2) random_forest\n",
            "                                              3)knn\n",
            "\n",
            "----------------------------\n",
            "\n",
            "returns: test classes after taking the vote of the 3 classes\n",
            "'''\n",
            "\n",
            "def voting_system(y_pred_svm,y_pred_random_forest,y_pred_knn,y_test):\n",
            "    y_pred=np.add(np.add(y_pred_knn,y_pred_svm),y_pred_random_forest)\n",
            "    y_pred[y_pred <=1]=0\n",
            "    y_pred[y_pred >1]=1  \n",
            "    return y_pred\n"
         ]
      },
      {
         "cell_type": "code",
         "execution_count": 15,
         "metadata": {},
         "outputs": [],
         "source": [
            "def apply_PCA(X,n_components=5, verbose=False):\n",
            "    sc = StandardScaler()\n",
            "    X_copy = X.copy()\n",
            "    X_copy = sc.fit_transform(X_copy)\n",
            "    pca = PCA(n_components = n_components)\n",
            "    X_copy = pca.fit_transform(X_copy)\n",
            "    \n",
            "    if(verbose):\n",
            "        print(\"preserved vairance: \", np.sum(pca.explained_variance_ratio_))\n",
            "    \n",
            "    return X_copy"
         ]
      },
      {
         "cell_type": "code",
         "execution_count": 78,
         "metadata": {},
         "outputs": [],
         "source": [
            "def train_model(X,y,test_size=0.3, max_depth=2, n_estimators=50, kernel='rbf', n_neighbors=5, folds=5):\n",
            "    svm_accuracy = 0\n",
            "    random_forest_accuracy = 0\n",
            "    knn_accuracy = 0\n",
            "    voting_sys_accuracy = 0\n",
            "    \n",
            "    # Average the model results to get less random metric\n",
            "    for i in range(folds):\n",
            "        # Train the models\n",
            "        X_train, X_test, y_train, y_test = train_test_split(X,y,test_size=test_size,random_state=45)\n",
            "        ypred_svm=svm_classify(X_train,y_train,X_test, kernel=kernel)\n",
            "        ypred_random_forest=random_forest_classify(X_train,y_train,X_test, max_depth=max_depth, n_estimators=n_estimators)\n",
            "        ypred_knn=knn_classify(X_train,y_train,X_test, n_neighbors=n_neighbors)\n",
            "        ypred_voting_system = voting_system(ypred_svm,ypred_random_forest,ypred_knn,y_test)\n",
            "        \n",
            "        # Sum the accuracies\n",
            "        svm_accuracy += metrics.accuracy_score(y_test, ypred_svm)\n",
            "        random_forest_accuracy += metrics.accuracy_score(y_test, ypred_random_forest)\n",
            "        knn_accuracy += metrics.accuracy_score(y_test, ypred_knn)\n",
            "        voting_sys_accuracy += metrics.accuracy_score(y_test, ypred_voting_system)\n",
            "    \n",
            "    print(\"Accuracy of SVM:\", svm_accuracy/folds)\n",
            "    print(\"Accuracy of random forest:\", random_forest_accuracy/folds)    \n",
            "    print(\"Accuracy of knn:\", knn_accuracy/folds)    \n",
            "    print(\"Accuracy of voting system:\", voting_sys_accuracy/folds)  "
         ]
      },
      {
         "cell_type": "code",
         "execution_count": 7,
         "metadata": {},
         "outputs": [],
         "source": [
            "female_imgs = util.read_imgs('./data/Females')\n",
            "male_imgs = util.read_imgs('./data/Males')"
         ]
      },
      {
         "cell_type": "code",
         "execution_count": 8,
         "metadata": {},
         "outputs": [
            {
               "name": "stdout",
               "output_type": "stream",
               "text": [
                  "Female images count:  131\n",
                  "Male images count:  232\n"
               ]
            }
         ],
         "source": [
            "females_count = len(female_imgs) \n",
            "males_count = len(male_imgs)\n",
            "print(\"Female images count: \", females_count)\n",
            "print(\"Male images count: \", males_count)"
         ]
      },
      {
         "cell_type": "code",
         "execution_count": 10,
         "metadata": {},
         "outputs": [
            {
               "name": "stderr",
               "output_type": "stream",
               "text": [
                  "c:\\Users\\Abdulla\\OneDrive\\Documents\\GitHub\\Handwriting-Based-Gender-Classification\\features.py:96: RuntimeWarning: divide by zero encountered in log10\n",
                  "  rhos_log_space = np.log10(rhos)\n"
               ]
            }
         ],
         "source": [
            "X_hinge = []\n",
            "y_hinge = []\n",
            "\n",
            "X_cold = []\n",
            "y_cold = []\n",
            "\n",
            "# Calculating features for females' images\n",
            "for i in range(females_count):\n",
            "    # extract features\n",
            "    thresh = util.threshold_image(female_imgs[i])\n",
            "    contours, _ = cv2.findContours(thresh, cv2.RETR_TREE, cv2.CHAIN_APPROX_NONE)\n",
            "    cold_features = features.get_cold_features(contours)\n",
            "    hinge_features = features.get_hinge_features(contours)\n",
            "    X_cold.append(cold_features)\n",
            "    X_hinge.append(hinge_features)\n",
            "    y_cold.append(1)\n",
            "    y_hinge.append(1)\n",
            "    \n",
            "# Calculating features for males' images\n",
            "for i in range(males_count):\n",
            "    # extract features\n",
            "    thresh = util.threshold_image(male_imgs[i])\n",
            "    contours, _ = cv2.findContours(thresh, cv2.RETR_TREE, cv2.CHAIN_APPROX_NONE)\n",
            "    cold_features = features.get_cold_features(contours)\n",
            "    hinge_features = features.get_hinge_features(contours)\n",
            "    X_cold.append(cold_features)\n",
            "    X_hinge.append(hinge_features)\n",
            "    y_cold.append(0)\n",
            "    y_hinge.append(0)\n",
            "    "
         ]
      },
      {
         "cell_type": "code",
         "execution_count": 11,
         "metadata": {},
         "outputs": [],
         "source": [
            "X_glcm = []\n",
            "y_glcm = []\n",
            "# Calculating features for females' images\n",
            "for i in range(females_count):\n",
            "    # extract features\n",
            "    glcm_features = features.extract_glcm_features(female_imgs[i])\n",
            "    # hog_features=features.extract_hog_features(female_imgs[i])\n",
            "    # lbp_features=features.extract_lbp(female_imgs[i])\n",
            "    # X.append(glcm_features)\n",
            "    # X.append(hog_features)\n",
            "    X_glcm.append(glcm_features)\n",
            "    y_glcm.append(1)\n",
            "    \n",
            "# Calculating features for males' images\n",
            "for i in range(males_count):\n",
            "    glcm_features = features.extract_glcm_features(male_imgs[i])\n",
            "    # hog_features=features.extract_hog_features(male_imgs[i])\n",
            "    # lbp_features=features.extract_lbp(male_imgs[i])\n",
            "    # X.append(glcm_features)\n",
            "    # X.append(hog_features)\n",
            "    X_glcm.append(glcm_features)\n",
            "    y_glcm.append(0)"
         ]
      },
      {
         "cell_type": "code",
         "execution_count": 17,
         "metadata": {},
         "outputs": [
            {
               "name": "stdout",
               "output_type": "stream",
               "text": [
                  "Hinge features  shape : (258, 66)\n",
                  "Cold features  shape : (258, 420)\n",
                  "X has shape : (258, 50)\n",
                  "y has shape : (258,)\n",
                  " After PCA X has shape : (258, 50)\n",
                  "Accuracy of SVM: 0.717948717948718\n",
                  "Accuracy of random forest: 0.6500000000000001\n",
                  "Accuracy of knn: 0.8076923076923077\n",
                  "Accuracy of voting system: 0.782051282051282\n"
               ]
            }
         ],
         "source": [
            "# Hinge + cold\n",
            "\n",
            "print(\"Hinge features  shape :\", np.shape(X_hinge))\n",
            "print(\"Cold features  shape :\", np.shape(X_cold))\n",
            "\n",
            "X=apply_PCA(X=X_hinge,n_components=50)\n",
            "y=y_cold\n",
            "\n",
            "print(\"X has shape :\", np.shape(X))\n",
            "print(\"y has shape :\", np.shape(y))\n",
            "\n",
            "print(\" After PCA X has shape :\", np.shape(X))\n",
            "train_model(X,y, folds=10)"
         ]
      },
      {
         "cell_type": "code",
         "execution_count": null,
         "metadata": {},
         "outputs": [],
         "source": [
            "# Hinge + GLCM\n",
            "print(\"Hinge features  shape :\", np.shape(X_hinge))\n",
            "print(\"GLCM features  shape :\", np.shape(X_glcm))\n",
            "\n",
            "\n",
            "X=np.hstack(((X_hinge,X_glcm)))\n",
            "y=y_hinge\n",
            "\n",
            "print(\"X has shape :\", np.shape(X))\n",
            "print(\"y has shape :\", np.shape(y))\n",
            "\n",
            "X=apply_PCA(X=X,n_components=50)\n",
            "print(\" After PCA X has shape :\", np.shape(X))\n",
            "train_model(X,y)"
         ]
      },
      {
         "cell_type": "code",
         "execution_count": null,
         "metadata": {},
         "outputs": [],
         "source": [
            "# COLD + GLCM\n",
            "print(\"Cold features  shape :\", np.shape(X_cold))\n",
            "print(\"GLCM features  shape :\", np.shape(X_glcm))\n",
            "\n",
            "\n",
            "X=np.hstack(((X_hinge,X_glcm)))\n",
            "y=y_glcm\n",
            "\n",
            "print(\"X has shape :\", np.shape(X))\n",
            "print(\"y has shape :\", np.shape(y))\n",
            "\n",
            "# X=apply_PCA(X=X,n_components=150)\n",
            "print(\" After PCA X has shape :\", np.shape(X))\n",
            "train_model(X,y)"
         ]
      },
      {
         "cell_type": "code",
         "execution_count": 16,
         "metadata": {},
         "outputs": [
            {
               "name": "stdout",
               "output_type": "stream",
               "text": [
                  "Hinge features  shape : (363, 66)\n",
                  "Cold features  shape : (363, 420)\n",
                  "Cold features  shape : (363, 6)\n",
                  "X has shape : (363, 492)\n",
                  "y has shape : (363,)\n",
                  " After PCA X has shape : (363, 100)\n",
                  "Accuracy of SVM: 0.6697247706422018\n",
                  "Accuracy of random forest: 0.5871559633027523\n",
                  "Accuracy of knn: 0.7155963302752294\n",
                  "Accuracy of voting system: 0.6880733944954128\n"
               ]
            }
         ],
         "source": [
            "# Hinge + cold + GLCM\n",
            "print(\"Hinge features  shape :\", np.shape(X_hinge))\n",
            "print(\"Cold features  shape :\", np.shape(X_cold))\n",
            "print(\"Cold features  shape :\", np.shape(X_glcm))\n",
            "\n",
            "\n",
            "X=np.hstack((np.hstack((X_hinge,X_cold)),X_glcm))\n",
            "y=y_cold\n",
            "\n",
            "print(\"X has shape :\", np.shape(X))\n",
            "print(\"y has shape :\", np.shape(y))\n",
            "\n",
            "X=apply_PCA(X=X,n_components=100)\n",
            "print(\" After PCA X has shape :\", np.shape(X))\n",
            "train_model(X,y)"
         ]
      },
      {
         "cell_type": "markdown",
         "metadata": {},
         "source": [
            "### Expiremnting on Hinge and Hog Features"
         ]
      },
      {
         "cell_type": "code",
         "execution_count": 70,
         "metadata": {},
         "outputs": [
            {
               "name": "stderr",
               "output_type": "stream",
               "text": [
                  "c:\\Users\\Abdulla\\OneDrive\\Documents\\GitHub\\Handwriting-Based-Gender-Classification\\features.py:96: RuntimeWarning: divide by zero encountered in log10\n",
                  "  rhos_log_space = np.log10(rhos)\n"
               ]
            }
         ],
         "source": [
            "\n",
            "X_hinge = []\n",
            "X_hog = []\n",
            "X_cold = []\n",
            "y = []\n",
            "\n",
            "# Calculating features for females' images\n",
            "for i in range(females_count):\n",
            "    # extract features\n",
            "    hog_features = features.extract_hog_features(female_imgs[i])\n",
            "    X_hog.append(hog_features)\n",
            "    \n",
            "    thresh = util.threshold_image(female_imgs[i])\n",
            "    contours, _ = cv2.findContours(thresh, cv2.RETR_TREE, cv2.CHAIN_APPROX_NONE)\n",
            "    hinge_features = features.get_hinge_features(contours)\n",
            "    cold_features = features.get_cold_features(contours)\n",
            "    X_hinge.append(hinge_features)\n",
            "    X_cold.append(cold_features)\n",
            "    y.append(1)\n",
            "    \n",
            "# Calculating features for males' images\n",
            "for i in range(males_count):\n",
            "    # extract features\n",
            "    hog_features = features.extract_hog_features(male_imgs[i])\n",
            "    X_hog.append(hog_features)\n",
            "    \n",
            "    thresh = util.threshold_image(male_imgs[i])\n",
            "    contours, _ = cv2.findContours(thresh, cv2.RETR_TREE, cv2.CHAIN_APPROX_NONE)\n",
            "    hinge_features = features.get_hinge_features(contours)\n",
            "    cold_features = features.get_cold_features(contours)\n",
            "    X_hinge.append(hinge_features)\n",
            "    X_cold.append(cold_features)\n",
            "    y.append(0)\n",
            "    \n"
         ]
      },
      {
         "cell_type": "code",
         "execution_count": 84,
         "metadata": {},
         "outputs": [
            {
               "name": "stdout",
               "output_type": "stream",
               "text": [
                  "X_hog shape:  (363, 6804)\n",
                  "X_hinge shape:  (363, 66)\n",
                  "X_cold shape:  (363, 420)\n",
                  "Accuracy of SVM: 0.8256880733944956\n",
                  "Accuracy of random forest: 0.6862385321100917\n",
                  "Accuracy of knn: 0.7431192660550457\n",
                  "Accuracy of voting system: 0.8027522935779816\n"
               ]
            }
         ],
         "source": [
            "print(\"X_hog shape: \", np.shape(X_hog))\n",
            "print(\"X_hinge shape: \", np.shape(X_hinge))\n",
            "print(\"X_cold shape: \", np.shape(X_cold))\n",
            "\n",
            "X_hog_pca = apply_PCA(X_hog, n_components=170, verbose=False)\n",
            "X_hinge_pca = apply_PCA(X_hinge, n_components=60, verbose=False)\n",
            "X_cold_pca = apply_PCA(X_cold, n_components=180, verbose=False)\n",
            "\n",
            "X = np.hstack((X_hog_pca, X_hinge_pca, X_cold_pca))\n",
            "train_model(X, y, max_depth=3, n_estimators=40, kernel='rbf', n_neighbors=5, folds=10)"
         ]
      }
   ],
   "metadata": {
      "interpreter": {
         "hash": "33763bd4968b6b790ae437d894eb2d341cfbe95369160c26415fe6c58b68d183"
      },
      "kernelspec": {
         "display_name": "Python 3.8.8 ('base')",
         "language": "python",
         "name": "python3"
      },
      "language_info": {
         "codemirror_mode": {
            "name": "ipython",
            "version": 3
         },
         "file_extension": ".py",
         "mimetype": "text/x-python",
         "name": "python",
         "nbconvert_exporter": "python",
         "pygments_lexer": "ipython3",
         "version": "3.8.8"
      }
   },
   "nbformat": 4,
   "nbformat_minor": 2
}