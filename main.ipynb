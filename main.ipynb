{
 "cells": [
  {
   "cell_type": "code",
   "execution_count": 11,
   "metadata": {},
   "outputs": [],
   "source": [
    "from sklearn import svm\n",
    "from sklearn.ensemble import RandomForestClassifier\n",
    "from sklearn.neighbors import KNeighborsClassifier\n",
    "from sklearn.model_selection import train_test_split\n",
    "from sklearn import metrics\n",
    "import numpy as np\n"
   ]
  },
  {
   "cell_type": "code",
   "execution_count": 9,
   "metadata": {},
   "outputs": [],
   "source": [
    "'''\n",
    "parms: train data (X_train)\n",
    "       test data  (X_test)\n",
    "       train classes  (y_train)\n",
    "\n",
    "----------------------------\n",
    "\n",
    "returns: test classes  (y_test)\n",
    "'''\n",
    "\n",
    "\n",
    "def svm_classify(X_train,y_train,X_test):\n",
    "    clf = svm.SVC(kernel='rbf')\n",
    "    clf.fit(X_train, y_train)\n",
    "    y_pred = clf.predict(X_test)\n",
    "    return y_pred"
   ]
  },
  {
   "cell_type": "code",
   "execution_count": 8,
   "metadata": {},
   "outputs": [],
   "source": [
    "'''\n",
    "parms: train data (X_train)\n",
    "       test data  (X_test)\n",
    "       train classes  (y_train)\n",
    "\n",
    "----------------------------\n",
    "\n",
    "returns: test classes  (y_test)\n",
    "'''\n",
    "\n",
    "def random_forest_classify(X_train,y_train,X_test):\n",
    "       clf = RandomForestClassifier(max_depth=2)\n",
    "       clf.fit(X_train, y_train)\n",
    "       y_pred=clf.predict(X_test)\n",
    "       return y_pred"
   ]
  },
  {
   "cell_type": "code",
   "execution_count": 7,
   "metadata": {},
   "outputs": [],
   "source": [
    "'''\n",
    "parms: train data (X_train)\n",
    "       test data  (X_test)\n",
    "       train classes  (y_train)\n",
    "\n",
    "----------------------------\n",
    "\n",
    "returns: test classes  (y_test)\n",
    "'''\n",
    "\n",
    "def random_forest_classify(X_train,y_train,X_test):\n",
    "        neigh = KNeighborsClassifier(n_neighbors=3)\n",
    "        neigh.fit(X_train, y_train)\n",
    "        y_pred=neigh.predict(X_test)\n",
    "        return y_pred"
   ]
  },
  {
   "cell_type": "code",
   "execution_count": 14,
   "metadata": {},
   "outputs": [],
   "source": [
    "'''\n",
    "parms: test classes of models tarined by  --> 1) svm\n",
    "                                              2) random_forest\n",
    "                                              3)knn\n",
    "\n",
    "----------------------------\n",
    "\n",
    "returns: test classes after taking the vote of the 3 classes\n",
    "'''\n",
    "\n",
    "def voting_system(y_pred_svm,y_pred_random_forest,y_pred_knn,y_test):\n",
    "    y_pred=np.add(np.add(y_pred_knn,y_pred_svm),y_pred_random_forest)\n",
    "    y_pred[y_pred <=1]=0\n",
    "    y_pred[y_pred >1]=1\n",
    "    print(\"Accuracy of SVM:\",metrics.accuracy_score(y_test, y_pred_svm))\n",
    "    print(\"Accuracy of random forest:\",metrics.accuracy_score(y_test, y_pred_random_forest))    \n",
    "    print(\"Accuracy of knn:\",metrics.accuracy_score(y_test, y_pred_knn))    \n",
    "    print(\"Accuracy of voting system:\",metrics.accuracy_score(y_test, y_pred))    \n",
    "    return y_pred\n"
   ]
  }
 ],
 "metadata": {
  "interpreter": {
   "hash": "a13a7589a368ce90da34e4529cc92ffc3f41fd9a61fbe337f5e93564a5450b7d"
  },
  "kernelspec": {
   "display_name": "Python 3.9.0 64-bit",
   "language": "python",
   "name": "python3"
  },
  "language_info": {
   "codemirror_mode": {
    "name": "ipython",
    "version": 3
   },
   "file_extension": ".py",
   "mimetype": "text/x-python",
   "name": "python",
   "nbconvert_exporter": "python",
   "pygments_lexer": "ipython3",
   "version": "3.9.0"
  },
  "orig_nbformat": 4
 },
 "nbformat": 4,
 "nbformat_minor": 2
}
