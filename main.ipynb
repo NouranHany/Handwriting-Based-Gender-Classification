{
 "cells": [
  {
   "cell_type": "code",
   "execution_count": 45,
   "metadata": {},
   "outputs": [],
   "source": [
    "from sklearn import svm\n",
    "from sklearn.ensemble import RandomForestClassifier\n",
    "from sklearn.neighbors import KNeighborsClassifier\n",
    "from sklearn.model_selection import train_test_split\n",
    "from sklearn.preprocessing import StandardScaler\n",
    "from sklearn.decomposition import PCA\n",
    "from sklearn import metrics\n",
    "import cv2\n",
    "import numpy as np\n",
    "import features as features\n",
    "import utilities as util"
   ]
  },
  {
   "cell_type": "markdown",
   "metadata": {},
   "source": [
    "### Comparing the Accuracy of the models with features\n",
    "\n",
    "\n",
    "|  | SVM | Random Forest | KNN |  Voting system |\n",
    "| --------------- | --------------- | --------------- | --------------- | --------------- |\n",
    "| Hinge | 62.8% | 64.1% | 67.9% |66.6% |\n",
    "| Hinge + PCA | 71.7%  |60.2%  |80.7  | 76.9%|\n",
    "| Cold | 61.5% |   64.1% | 67.9%   | 62.8%   |\n",
    "| Cold + PCA | 67.9%  | 67.9% |  67.9% |70.5% |\n",
    "| LBP |  |  |   |\n",
    "| GLCM | 50.0%| 43.5% |41.0%   |43.5%  |\n",
    "| GLCM + PCA (=5) |60.2% |48.7%  | 57.6%  |57.6% |\n",
    "| HOG |  |  |   |"
   ]
  },
  {
   "cell_type": "code",
   "execution_count": 46,
   "metadata": {},
   "outputs": [],
   "source": [
    "'''\n",
    "parms: train data (X_train)\n",
    "       test data  (X_test)\n",
    "       train classes  (y_train)\n",
    "\n",
    "----------------------------\n",
    "\n",
    "returns: test classes  (y_test)\n",
    "'''\n",
    "\n",
    "\n",
    "def svm_classify(X_train,y_train,X_test):\n",
    "    clf = svm.SVC(kernel='rbf')\n",
    "    clf.fit(X_train, y_train)\n",
    "    y_pred = clf.predict(X_test)\n",
    "    return y_pred"
   ]
  },
  {
   "cell_type": "code",
   "execution_count": 47,
   "metadata": {},
   "outputs": [],
   "source": [
    "'''\n",
    "parms: train data (X_train)\n",
    "       test data  (X_test)\n",
    "       train classes  (y_train)\n",
    "\n",
    "----------------------------\n",
    "\n",
    "returns: test classes  (y_test)\n",
    "'''\n",
    "\n",
    "def random_forest_classify(X_train,y_train,X_test):\n",
    "       clf = RandomForestClassifier(max_depth=2, n_estimators=50)\n",
    "       clf.fit(X_train, y_train)\n",
    "       y_pred=clf.predict(X_test)\n",
    "       return y_pred"
   ]
  },
  {
   "cell_type": "code",
   "execution_count": 48,
   "metadata": {},
   "outputs": [],
   "source": [
    "'''\n",
    "parms: train data (X_train)\n",
    "       test data  (X_test)\n",
    "       train classes  (y_train)\n",
    "\n",
    "----------------------------\n",
    "\n",
    "returns: test classes  (y_test)\n",
    "'''\n",
    "\n",
    "def knn_classify(X_train,y_train,X_test):\n",
    "        neigh = KNeighborsClassifier(n_neighbors=5)\n",
    "        neigh.fit(X_train, y_train)\n",
    "        y_pred=neigh.predict(X_test)\n",
    "        return y_pred"
   ]
  },
  {
   "cell_type": "code",
   "execution_count": 49,
   "metadata": {},
   "outputs": [],
   "source": [
    "'''\n",
    "parms: test classes of models tarined by  --> 1) svm\n",
    "                                              2) random_forest\n",
    "                                              3)knn\n",
    "\n",
    "----------------------------\n",
    "\n",
    "returns: test classes after taking the vote of the 3 classes\n",
    "'''\n",
    "\n",
    "def voting_system(y_pred_svm,y_pred_random_forest,y_pred_knn,y_test):\n",
    "    y_pred=np.add(np.add(y_pred_knn,y_pred_svm),y_pred_random_forest)\n",
    "    y_pred[y_pred <=1]=0\n",
    "    y_pred[y_pred >1]=1\n",
    "    print(\"Accuracy of SVM:\",metrics.accuracy_score(y_test, y_pred_svm))\n",
    "    print(\"Accuracy of random forest:\",metrics.accuracy_score(y_test, y_pred_random_forest))    \n",
    "    print(\"Accuracy of knn:\",metrics.accuracy_score(y_test, y_pred_knn))    \n",
    "    print(\"Accuracy of voting system:\",metrics.accuracy_score(y_test, y_pred))    \n",
    "    return y_pred\n"
   ]
  },
  {
   "cell_type": "code",
   "execution_count": 50,
   "metadata": {},
   "outputs": [],
   "source": [
    "female_imgs = util.read_imgs('./data/Female/Female')\n",
    "male_imgs = util.read_imgs('./data/Male/Male')"
   ]
  },
  {
   "cell_type": "code",
   "execution_count": 51,
   "metadata": {},
   "outputs": [
    {
     "name": "stdout",
     "output_type": "stream",
     "text": [
      "Female images count:  133\n",
      "Male images count:  125\n"
     ]
    }
   ],
   "source": [
    "females_count = len(female_imgs) \n",
    "males_count = len(male_imgs)\n",
    "print(\"Female images count: \", females_count)\n",
    "print(\"Male images count: \", males_count)\n"
   ]
  },
  {
   "cell_type": "code",
   "execution_count": 56,
   "metadata": {},
   "outputs": [],
   "source": [
    "X = []\n",
    "y = []\n",
    "# Calculating features for females' images\n",
    "for i in range(females_count):\n",
    "    # extract features\n",
    "    thresh = util.threshold_image(female_imgs[i])\n",
    "    contours, _ = cv2.findContours(thresh, cv2.RETR_TREE, cv2.CHAIN_APPROX_NONE)\n",
    "    # cold_features = features.get_cold_features(contours)\n",
    "    hinge_features = features.get_hinge_features(contours)\n",
    "    # X.append(cold_features)\n",
    "    X.append(hinge_features)\n",
    "    y.append(1)\n",
    "    \n",
    "# Calculating features for males' images\n",
    "for i in range(males_count):\n",
    "    # extract features\n",
    "    thresh = util.threshold_image(male_imgs[i])\n",
    "    contours, _ = cv2.findContours(thresh, cv2.RETR_TREE, cv2.CHAIN_APPROX_NONE)\n",
    "    # cold_features = features.get_cold_features(contours)\n",
    "    hinge_features = features.get_hinge_features(contours)\n",
    "    # X.append(cold_features)\n",
    "    X.append(hinge_features)\n",
    "    y.append(0)\n",
    "    "
   ]
  },
  {
   "cell_type": "code",
   "execution_count": 65,
   "metadata": {},
   "outputs": [
    {
     "name": "stderr",
     "output_type": "stream",
     "text": [
      "c:\\Users\\halah\\Python\\Python39\\lib\\site-packages\\skimage\\_shared\\utils.py:338: FutureWarning: `multichannel` is a deprecated argument name for `hog`. It will be removed in version 1.0.Please use `channel_axis` instead.\n",
      "  return func(*args, **kwargs)\n"
     ]
    },
    {
     "ename": "KeyError",
     "evalue": "None",
     "output_type": "error",
     "traceback": [
      "\u001b[1;31m---------------------------------------------------------------------------\u001b[0m",
      "\u001b[1;31mKeyError\u001b[0m                                  Traceback (most recent call last)",
      "\u001b[1;32md:\\hala_hamdy\\university\\Third_year\\Second_Semester\\Neural Networks\\Project\\github\\Handwriting-Based-Gender-Classification\\main.ipynb Cell 10'\u001b[0m in \u001b[0;36m<module>\u001b[1;34m\u001b[0m\n\u001b[0;32m      <a href='vscode-notebook-cell:/d%3A/hala_hamdy/university/Third_year/Second_Semester/Neural%20Networks/Project/github/Handwriting-Based-Gender-Classification/main.ipynb#ch0000013?line=2'>3</a>\u001b[0m \u001b[39m# Calculating features for females' images\u001b[39;00m\n\u001b[0;32m      <a href='vscode-notebook-cell:/d%3A/hala_hamdy/university/Third_year/Second_Semester/Neural%20Networks/Project/github/Handwriting-Based-Gender-Classification/main.ipynb#ch0000013?line=3'>4</a>\u001b[0m \u001b[39mfor\u001b[39;00m i \u001b[39min\u001b[39;00m \u001b[39mrange\u001b[39m(females_count):\n\u001b[0;32m      <a href='vscode-notebook-cell:/d%3A/hala_hamdy/university/Third_year/Second_Semester/Neural%20Networks/Project/github/Handwriting-Based-Gender-Classification/main.ipynb#ch0000013?line=4'>5</a>\u001b[0m     \u001b[39m# extract features\u001b[39;00m\n\u001b[0;32m      <a href='vscode-notebook-cell:/d%3A/hala_hamdy/university/Third_year/Second_Semester/Neural%20Networks/Project/github/Handwriting-Based-Gender-Classification/main.ipynb#ch0000013?line=5'>6</a>\u001b[0m     \u001b[39m# glcm_features = features.extract_glcm_features(female_imgs[i])\u001b[39;00m\n\u001b[1;32m----> <a href='vscode-notebook-cell:/d%3A/hala_hamdy/university/Third_year/Second_Semester/Neural%20Networks/Project/github/Handwriting-Based-Gender-Classification/main.ipynb#ch0000013?line=6'>7</a>\u001b[0m     hog_features\u001b[39m=\u001b[39mfeatures\u001b[39m.\u001b[39;49mextract_hog_features(female_imgs[i])\n\u001b[0;32m      <a href='vscode-notebook-cell:/d%3A/hala_hamdy/university/Third_year/Second_Semester/Neural%20Networks/Project/github/Handwriting-Based-Gender-Classification/main.ipynb#ch0000013?line=7'>8</a>\u001b[0m     \u001b[39m# X.append(glcm_features)\u001b[39;00m\n\u001b[0;32m      <a href='vscode-notebook-cell:/d%3A/hala_hamdy/university/Third_year/Second_Semester/Neural%20Networks/Project/github/Handwriting-Based-Gender-Classification/main.ipynb#ch0000013?line=8'>9</a>\u001b[0m     X\u001b[39m.\u001b[39mappend(hog_features)\n",
      "File \u001b[1;32md:\\hala_hamdy\\university\\Third_year\\Second_Semester\\Neural Networks\\Project\\github\\Handwriting-Based-Gender-Classification\\features.py:101\u001b[0m, in \u001b[0;36mextract_hog_features\u001b[1;34m(img, img_size, orientations, pixels_per_cell, cells_per_block)\u001b[0m\n\u001b[0;32m     <a href='file:///d%3A/hala_hamdy/university/Third_year/Second_Semester/Neural%20Networks/Project/github/Handwriting-Based-Gender-Classification/features.py?line=98'>99</a>\u001b[0m img \u001b[39m=\u001b[39m rgb2gray(img)\n\u001b[0;32m    <a href='file:///d%3A/hala_hamdy/university/Third_year/Second_Semester/Neural%20Networks/Project/github/Handwriting-Based-Gender-Classification/features.py?line=99'>100</a>\u001b[0m img \u001b[39m=\u001b[39m resize(img, img_size,anti_aliasing\u001b[39m=\u001b[39m\u001b[39mTrue\u001b[39;00m)\n\u001b[1;32m--> <a href='file:///d%3A/hala_hamdy/university/Third_year/Second_Semester/Neural%20Networks/Project/github/Handwriting-Based-Gender-Classification/features.py?line=100'>101</a>\u001b[0m hog_features\u001b[39m=\u001b[39m hog(img, orientations\u001b[39m=\u001b[39;49morientations, pixels_per_cell\u001b[39m=\u001b[39;49mpixels_per_cell,\n\u001b[0;32m    <a href='file:///d%3A/hala_hamdy/university/Third_year/Second_Semester/Neural%20Networks/Project/github/Handwriting-Based-Gender-Classification/features.py?line=101'>102</a>\u001b[0m                            cells_per_block\u001b[39m=\u001b[39;49mcells_per_block, block_norm\u001b[39m=\u001b[39;49m\u001b[39m'\u001b[39;49m\u001b[39mL2-Hys\u001b[39;49m\u001b[39m'\u001b[39;49m,\n\u001b[0;32m    <a href='file:///d%3A/hala_hamdy/university/Third_year/Second_Semester/Neural%20Networks/Project/github/Handwriting-Based-Gender-Classification/features.py?line=102'>103</a>\u001b[0m                            visualize\u001b[39m=\u001b[39;49m\u001b[39mFalse\u001b[39;49;00m, transform_sqrt\u001b[39m=\u001b[39;49m\u001b[39mFalse\u001b[39;49;00m, feature_vector\u001b[39m=\u001b[39;49m\u001b[39mTrue\u001b[39;49;00m, multichannel\u001b[39m=\u001b[39;49m\u001b[39mNone\u001b[39;49;00m)\n\u001b[0;32m    <a href='file:///d%3A/hala_hamdy/university/Third_year/Second_Semester/Neural%20Networks/Project/github/Handwriting-Based-Gender-Classification/features.py?line=103'>104</a>\u001b[0m \u001b[39mreturn\u001b[39;00m hog_features\n",
      "File \u001b[1;32mc:\\Users\\halah\\Python\\Python39\\lib\\site-packages\\skimage\\_shared\\utils.py:338\u001b[0m, in \u001b[0;36mchannel_as_last_axis.__call__.<locals>.fixed_func\u001b[1;34m(*args, **kwargs)\u001b[0m\n\u001b[0;32m    <a href='file:///c%3A/Users/halah/Python/Python39/lib/site-packages/skimage/_shared/utils.py?line=334'>335</a>\u001b[0m channel_axis \u001b[39m=\u001b[39m kwargs\u001b[39m.\u001b[39mget(\u001b[39m'\u001b[39m\u001b[39mchannel_axis\u001b[39m\u001b[39m'\u001b[39m, \u001b[39mNone\u001b[39;00m)\n\u001b[0;32m    <a href='file:///c%3A/Users/halah/Python/Python39/lib/site-packages/skimage/_shared/utils.py?line=336'>337</a>\u001b[0m \u001b[39mif\u001b[39;00m channel_axis \u001b[39mis\u001b[39;00m \u001b[39mNone\u001b[39;00m:\n\u001b[1;32m--> <a href='file:///c%3A/Users/halah/Python/Python39/lib/site-packages/skimage/_shared/utils.py?line=337'>338</a>\u001b[0m     \u001b[39mreturn\u001b[39;00m func(\u001b[39m*\u001b[39margs, \u001b[39m*\u001b[39m\u001b[39m*\u001b[39mkwargs)\n\u001b[0;32m    <a href='file:///c%3A/Users/halah/Python/Python39/lib/site-packages/skimage/_shared/utils.py?line=339'>340</a>\u001b[0m \u001b[39m# TODO: convert scalars to a tuple in anticipation of eventually\u001b[39;00m\n\u001b[0;32m    <a href='file:///c%3A/Users/halah/Python/Python39/lib/site-packages/skimage/_shared/utils.py?line=340'>341</a>\u001b[0m \u001b[39m#       supporting a tuple of channel axes. Right now, only an\u001b[39;00m\n\u001b[0;32m    <a href='file:///c%3A/Users/halah/Python/Python39/lib/site-packages/skimage/_shared/utils.py?line=341'>342</a>\u001b[0m \u001b[39m#       integer or a single-element tuple is supported, though.\u001b[39;00m\n\u001b[0;32m    <a href='file:///c%3A/Users/halah/Python/Python39/lib/site-packages/skimage/_shared/utils.py?line=342'>343</a>\u001b[0m \u001b[39mif\u001b[39;00m np\u001b[39m.\u001b[39misscalar(channel_axis):\n",
      "File \u001b[1;32mc:\\Users\\halah\\Python\\Python39\\lib\\site-packages\\skimage\\_shared\\utils.py:290\u001b[0m, in \u001b[0;36mdeprecate_multichannel_kwarg.__call__.<locals>.fixed_func\u001b[1;34m(*args, **kwargs)\u001b[0m\n\u001b[0;32m    <a href='file:///c%3A/Users/halah/Python/Python39/lib/site-packages/skimage/_shared/utils.py?line=287'>288</a>\u001b[0m     \u001b[39m# multichannel = True -> last axis corresponds to channels\u001b[39;00m\n\u001b[0;32m    <a href='file:///c%3A/Users/halah/Python/Python39/lib/site-packages/skimage/_shared/utils.py?line=288'>289</a>\u001b[0m     convert \u001b[39m=\u001b[39m {\u001b[39mTrue\u001b[39;00m: \u001b[39m-\u001b[39m\u001b[39m1\u001b[39m, \u001b[39mFalse\u001b[39;00m: \u001b[39mNone\u001b[39;00m}\n\u001b[1;32m--> <a href='file:///c%3A/Users/halah/Python/Python39/lib/site-packages/skimage/_shared/utils.py?line=289'>290</a>\u001b[0m     kwargs[\u001b[39m'\u001b[39m\u001b[39mchannel_axis\u001b[39m\u001b[39m'\u001b[39m] \u001b[39m=\u001b[39m convert[kwargs\u001b[39m.\u001b[39;49mpop(\u001b[39m'\u001b[39;49m\u001b[39mmultichannel\u001b[39;49m\u001b[39m'\u001b[39;49m)]\n\u001b[0;32m    <a href='file:///c%3A/Users/halah/Python/Python39/lib/site-packages/skimage/_shared/utils.py?line=291'>292</a>\u001b[0m \u001b[39m# Call the function with the fixed arguments\u001b[39;00m\n\u001b[0;32m    <a href='file:///c%3A/Users/halah/Python/Python39/lib/site-packages/skimage/_shared/utils.py?line=292'>293</a>\u001b[0m \u001b[39mreturn\u001b[39;00m func(\u001b[39m*\u001b[39margs, \u001b[39m*\u001b[39m\u001b[39m*\u001b[39mkwargs)\n",
      "\u001b[1;31mKeyError\u001b[0m: None"
     ]
    }
   ],
   "source": [
    "X = []\n",
    "y = []\n",
    "# Calculating features for females' images\n",
    "for i in range(females_count):\n",
    "    # extract features\n",
    "    # glcm_features = features.extract_glcm_features(female_imgs[i])\n",
    "    hog_features=features.extract_hog_features(female_imgs[i])\n",
    "    # X.append(glcm_features)\n",
    "    X.append(hog_features)\n",
    "    y.append(1)\n",
    "    \n",
    "# Calculating features for males' images\n",
    "for i in range(males_count):\n",
    "    # glcm_features = features.extract_glcm_features(male_imgs[i])\n",
    "    hog_features=features.extract_hog_features(male_imgs[i])\n",
    "    # X.append(glcm_features)\n",
    "    X.append(hog_features)\n",
    "    y.append(0)"
   ]
  },
  {
   "cell_type": "code",
   "execution_count": 63,
   "metadata": {},
   "outputs": [],
   "source": [
    "sc = StandardScaler()\n",
    "X = sc.fit_transform(X)\n",
    "pca = PCA(n_components = 5)\n",
    "X = pca.fit_transform(X)\n"
   ]
  },
  {
   "cell_type": "code",
   "execution_count": 64,
   "metadata": {},
   "outputs": [
    {
     "name": "stdout",
     "output_type": "stream",
     "text": [
      "Accuracy of SVM: 0.6025641025641025\n",
      "Accuracy of random forest: 0.48717948717948717\n",
      "Accuracy of knn: 0.5769230769230769\n",
      "Accuracy of voting system: 0.5769230769230769\n"
     ]
    },
    {
     "data": {
      "text/plain": [
       "array([0, 1, 0, 0, 0, 1, 0, 0, 0, 0, 0, 0, 1, 0, 0, 0, 0, 0, 0, 0, 1, 0,\n",
       "       0, 0, 0, 0, 0, 0, 0, 0, 0, 0, 0, 0, 0, 1, 0, 0, 0, 1, 0, 0, 0, 1,\n",
       "       0, 1, 1, 0, 1, 0, 0, 0, 1, 0, 1, 1, 0, 0, 0, 0, 0, 0, 0, 0, 1, 0,\n",
       "       0, 1, 0, 1, 0, 1, 1, 0, 1, 0, 1, 0])"
      ]
     },
     "execution_count": 64,
     "metadata": {},
     "output_type": "execute_result"
    }
   ],
   "source": [
    "X_train, X_test, y_train, y_test = train_test_split(X,y,test_size=0.3,random_state=3)\n",
    "ypred_svm=svm_classify(X_train,y_train,X_test)\n",
    "ypred_random_forest=random_forest_classify(X_train,y_train,X_test)\n",
    "ypred_knn=knn_classify(X_train,y_train,X_test)\n",
    "voting_system(ypred_svm,ypred_random_forest,ypred_knn,y_test)"
   ]
  }
 ],
 "metadata": {
  "interpreter": {
   "hash": "a13a7589a368ce90da34e4529cc92ffc3f41fd9a61fbe337f5e93564a5450b7d"
  },
  "kernelspec": {
   "display_name": "Python 3.9.0 64-bit",
   "language": "python",
   "name": "python3"
  },
  "language_info": {
   "codemirror_mode": {
    "name": "ipython",
    "version": 3
   },
   "file_extension": ".py",
   "mimetype": "text/x-python",
   "name": "python",
   "nbconvert_exporter": "python",
   "pygments_lexer": "ipython3",
   "version": "3.9.0"
  },
  "orig_nbformat": 4
 },
 "nbformat": 4,
 "nbformat_minor": 2
}
