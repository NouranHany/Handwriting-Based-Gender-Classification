{
 "cells": [
  {
   "cell_type": "code",
   "execution_count": 23,
   "metadata": {},
   "outputs": [],
   "source": [
    "from sklearn import svm\n",
    "from sklearn.ensemble import RandomForestClassifier\n",
    "from sklearn.neighbors import KNeighborsClassifier\n",
    "from sklearn.model_selection import train_test_split\n",
    "from sklearn.preprocessing import StandardScaler\n",
    "from sklearn.decomposition import PCA\n",
    "from sklearn import metrics\n",
    "import pandas as pd\n",
    "import cv2\n",
    "import numpy as np\n",
    "import features as features\n",
    "import utilities as util"
   ]
  },
  {
   "cell_type": "markdown",
   "metadata": {},
   "source": [
    "### Comparing the Accuracy of the models with features\n",
    "\n",
    "\n",
    "|  | SVM | Random Forest | KNN |  Voting system |\n",
    "| --------------- | --------------- | --------------- | --------------- | --------------- |\n",
    "| Hinge | 62.8% | 64.1% | 67.9% |66.6% |\n",
    "| Hinge + PCA | 71.7%  |60.2%  |80.7  | 76.9%|\n",
    "| Cold | 61.5% |   64.1% | 67.9%   | 62.8%   |\n",
    "| Cold + PCA | 67.9%  | 67.9% |  67.9% |70.5% |\n",
    "| LBP |  |  |   |\n",
    "| GLCM | 50.0%| 43.5% |41.0%   |43.5%  |\n",
    "| GLCM + PCA (=5) |60.2% |48.7%  | 57.6%  |57.6% |\n",
    "| HOG | 75.6% | 70.5% |  64.1% | 71.8% |\n",
    "| HOG + PCA(=200)| 78.2% | 57.7% |  70.5% | 75.6% |\n",
    "Accuracy of SVM: 0.782051282051282\n",
    "Accuracy of random forest: 0.5769230769230769\n",
    "Accuracy of knn: 0.7051282051282052\n",
    "Accuracy of voting system: 0.7564102564102564\n",
    "\n",
    "\n",
    "\n",
    "### Combining the Features results in accuracy of:\n",
    "\n",
    "\n",
    "|  | SVM | Random Forest | KNN |  Voting system |\n",
    "| --------------- | --------------- | --------------- | --------------- | --------------- |\n",
    "| PCA(Hinge + Cold) of 100  | 67.9% | 70.5% |67.9% | 70.5%|\n",
    "| PCA(Hinge + GLCM) of 50  | 65.3% | 58.9% |74.3% | 71.7%|\n",
    "| PCA(Cold + GLCM) of 50  | 51.2% | 60.2% |41.0% | 53.8%|\n",
    "| PCA(Hinge + Cold + glcm ) of 100  | 69.2% | 73.0% |67.9% | 73.0%|\n",
    "| PCA(Hinge + Cold + glcm ) of 200  | 66.6% | 71.7% |69.2% | 76.9%|\n"
   ]
  },
  {
   "cell_type": "code",
   "execution_count": 3,
   "metadata": {},
   "outputs": [],
   "source": [
    "'''\n",
    "parms: train data (X_train)\n",
    "       test data  (X_test)\n",
    "       train classes  (y_train)\n",
    "\n",
    "----------------------------\n",
    "\n",
    "returns: test classes  (y_test)\n",
    "'''\n",
    "\n",
    "\n",
    "def svm_classify(X_train,y_train,X_test):\n",
    "    clf = svm.SVC(kernel='rbf')\n",
    "    clf.fit(X_train, y_train)\n",
    "    y_pred = clf.predict(X_test)\n",
    "    return y_pred"
   ]
  },
  {
   "cell_type": "code",
   "execution_count": 4,
   "metadata": {},
   "outputs": [],
   "source": [
    "'''\n",
    "parms: train data (X_train)\n",
    "       test data  (X_test)\n",
    "       train classes  (y_train)\n",
    "\n",
    "----------------------------\n",
    "\n",
    "returns: test classes  (y_test)\n",
    "'''\n",
    "\n",
    "def random_forest_classify(X_train,y_train,X_test):\n",
    "       clf = RandomForestClassifier(max_depth=2, n_estimators=50)\n",
    "       clf.fit(X_train, y_train)\n",
    "       y_pred=clf.predict(X_test)\n",
    "       return y_pred"
   ]
  },
  {
   "cell_type": "code",
   "execution_count": 5,
   "metadata": {},
   "outputs": [],
   "source": [
    "'''\n",
    "parms: train data (X_train)\n",
    "       test data  (X_test)\n",
    "       train classes  (y_train)\n",
    "\n",
    "----------------------------\n",
    "\n",
    "returns: test classes  (y_test)\n",
    "'''\n",
    "\n",
    "def knn_classify(X_train,y_train,X_test):\n",
    "        neigh = KNeighborsClassifier(n_neighbors=5)\n",
    "        neigh.fit(X_train, y_train)\n",
    "        y_pred=neigh.predict(X_test)\n",
    "        return y_pred"
   ]
  },
  {
   "cell_type": "code",
   "execution_count": 6,
   "metadata": {},
   "outputs": [],
   "source": [
    "'''\n",
    "parms: test classes of models tarined by  --> 1) svm\n",
    "                                              2) random_forest\n",
    "                                              3)knn\n",
    "\n",
    "----------------------------\n",
    "\n",
    "returns: test classes after taking the vote of the 3 classes\n",
    "'''\n",
    "\n",
    "def voting_system(y_pred_svm,y_pred_random_forest,y_pred_knn,y_test):\n",
    "    y_pred=np.add(np.add(y_pred_knn,y_pred_svm),y_pred_random_forest)\n",
    "    y_pred[y_pred <=1]=0\n",
    "    y_pred[y_pred >1]=1\n",
    "    print(\"Accuracy of SVM:\",metrics.accuracy_score(y_test, y_pred_svm))\n",
    "    print(\"Accuracy of random forest:\",metrics.accuracy_score(y_test, y_pred_random_forest))    \n",
    "    print(\"Accuracy of knn:\",metrics.accuracy_score(y_test, y_pred_knn))    \n",
    "    print(\"Accuracy of voting system:\",metrics.accuracy_score(y_test, y_pred))    \n",
    "    return y_pred\n"
   ]
  },
  {
   "cell_type": "code",
   "execution_count": 66,
   "metadata": {},
   "outputs": [],
   "source": [
    "def apply_PCA(X,n_components=5):\n",
    "    sc = StandardScaler()\n",
    "    X = sc.fit_transform(X)\n",
    "    pca = PCA(n_components = n_components)\n",
    "    X = pca.fit_transform(X)\n",
    "    return X"
   ]
  },
  {
   "cell_type": "code",
   "execution_count": 67,
   "metadata": {},
   "outputs": [],
   "source": [
    "def train_model(X,y,test_size=0.3):\n",
    "    X_train, X_test, y_train, y_test = train_test_split(X,y,test_size=test_size,random_state=3)\n",
    "    ypred_svm=svm_classify(X_train,y_train,X_test)\n",
    "    ypred_random_forest=random_forest_classify(X_train,y_train,X_test)\n",
    "    ypred_knn=knn_classify(X_train,y_train,X_test)\n",
    "    voting_system(ypred_svm,ypred_random_forest,ypred_knn,y_test)"
   ]
  },
  {
   "cell_type": "code",
   "execution_count": 7,
   "metadata": {},
   "outputs": [],
   "source": [
    "female_imgs = util.read_imgs('./data/Female/Female')\n",
    "male_imgs = util.read_imgs('./data/Male/Male')"
   ]
  },
  {
   "cell_type": "code",
   "execution_count": 8,
   "metadata": {},
   "outputs": [
    {
     "name": "stdout",
     "output_type": "stream",
     "text": [
      "Female images count:  133\n",
      "Male images count:  125\n"
     ]
    }
   ],
   "source": [
    "females_count = len(female_imgs) \n",
    "males_count = len(male_imgs)\n",
    "print(\"Female images count: \", females_count)\n",
    "print(\"Male images count: \", males_count)\n"
   ]
  },
  {
   "cell_type": "code",
   "execution_count": 56,
   "metadata": {},
   "outputs": [],
   "source": [
    "X_hinge = []\n",
    "y_hinge = []\n",
    "\n",
    "X_cold = []\n",
    "y_cold = []\n",
    "\n",
    "# Calculating features for females' images\n",
    "for i in range(females_count):\n",
    "    # extract features\n",
    "    thresh = util.threshold_image(female_imgs[i])\n",
    "    contours, _ = cv2.findContours(thresh, cv2.RETR_TREE, cv2.CHAIN_APPROX_NONE)\n",
    "    cold_features = features.get_cold_features(contours)\n",
    "    hinge_features = features.get_hinge_features(contours)\n",
    "    X_cold.append(cold_features)\n",
    "    X_hinge.append(hinge_features)\n",
    "    y_cold.append(1)\n",
    "    y_hinge.append(1)\n",
    "    \n",
    "# Calculating features for males' images\n",
    "for i in range(males_count):\n",
    "    # extract features\n",
    "    thresh = util.threshold_image(male_imgs[i])\n",
    "    contours, _ = cv2.findContours(thresh, cv2.RETR_TREE, cv2.CHAIN_APPROX_NONE)\n",
    "    cold_features = features.get_cold_features(contours)\n",
    "    hinge_features = features.get_hinge_features(contours)\n",
    "    X_cold.append(cold_features)\n",
    "    X_hinge.append(hinge_features)\n",
    "    y_cold.append(0)\n",
    "    y_hinge.append(0)\n",
    "    "
   ]
  },
  {
   "cell_type": "code",
   "execution_count": 29,
   "metadata": {},
   "outputs": [],
   "source": [
    "X_glcm = []\n",
    "y_glcm = []\n",
    "# Calculating features for females' images\n",
    "for i in range(females_count):\n",
    "    # extract features\n",
    "    glcm_features = features.extract_glcm_features(female_imgs[i])\n",
    "    # hog_features=features.extract_hog_features(female_imgs[i])\n",
    "    # lbp_features=features.extract_lbp(female_imgs[i])\n",
    "    # X.append(glcm_features)\n",
    "    # X.append(hog_features)\n",
    "    X_glcm.append(glcm_features)\n",
    "    y_glcm.append(1)\n",
    "    \n",
    "# Calculating features for males' images\n",
    "for i in range(males_count):\n",
    "    glcm_features = features.extract_glcm_features(male_imgs[i])\n",
    "    # hog_features=features.extract_hog_features(male_imgs[i])\n",
    "    # lbp_features=features.extract_lbp(male_imgs[i])\n",
    "    # X.append(glcm_features)\n",
    "    # X.append(hog_features)\n",
    "    X_glcm.append(glcm_features)\n",
    "    y_glcm.append(0)"
   ]
  },
  {
   "cell_type": "code",
   "execution_count": 30,
   "metadata": {},
   "outputs": [
    {
     "name": "stdout",
     "output_type": "stream",
     "text": [
      "PCA is preserving about:  0.9534742273202335 of variance\n",
      "(258, 200)\n"
     ]
    }
   ],
   "source": [
    "# Hinge + cold\n",
    "\n",
    "print(\"Hinge features  shape :\", np.shape(X_hinge))\n",
    "print(\"Cold features  shape :\", np.shape(X_cold))\n",
    "\n",
    "X=np.hstack((X_hinge,X_cold))\n",
    "y=y_cold\n",
    "\n",
    "print(\"X has shape :\", np.shape(X))\n",
    "print(\"y has shape :\", np.shape(y))\n",
    "X=apply_PCA(X=X,n_components=100)\n",
    "print(\" After PCA X has shape :\", np.shape(X))\n",
    "train_model(X,y)\n"
   ]
  },
  {
   "cell_type": "code",
   "execution_count": null,
   "metadata": {},
   "outputs": [],
   "source": [
    "# Hinge + GLCM\n",
    "print(\"Hinge features  shape :\", np.shape(X_hinge))\n",
    "print(\"GLCM features  shape :\", np.shape(X_glcm))\n",
    "\n",
    "\n",
    "X=np.hstack(((X_hinge,X_glcm)))\n",
    "y=y_hinge\n",
    "\n",
    "print(\"X has shape :\", np.shape(X))\n",
    "print(\"y has shape :\", np.shape(y))\n",
    "\n",
    "X=apply_PCA(X=X,n_components=50)\n",
    "print(\" After PCA X has shape :\", np.shape(X))\n",
    "train_model(X,y)"
   ]
  },
  {
   "cell_type": "code",
   "execution_count": null,
   "metadata": {},
   "outputs": [],
   "source": [
    "# COLD + GLCM\n",
    "print(\"Cold features  shape :\", np.shape(X_cold))\n",
    "print(\"GLCM features  shape :\", np.shape(X_glcm))\n",
    "\n",
    "\n",
    "X=np.hstack(((X_hinge,X_glcm)))\n",
    "y=y_glcm\n",
    "\n",
    "print(\"X has shape :\", np.shape(X))\n",
    "print(\"y has shape :\", np.shape(y))\n",
    "\n",
    "# X=apply_PCA(X=X,n_components=150)\n",
    "print(\" After PCA X has shape :\", np.shape(X))\n",
    "train_model(X,y)"
   ]
  },
  {
   "cell_type": "code",
   "execution_count": null,
   "metadata": {},
   "outputs": [],
   "source": [
    "# Hinge + cold + GLCM\n",
    "print(\"Hinge features  shape :\", np.shape(X_hinge))\n",
    "print(\"Cold features  shape :\", np.shape(X_cold))\n",
    "print(\"Cold features  shape :\", np.shape(X_glcm))\n",
    "\n",
    "\n",
    "X=np.hstack((np.hstack((X_hinge,X_cold)),X_glcm))\n",
    "y=y_cold\n",
    "\n",
    "print(\"X has shape :\", np.shape(X))\n",
    "print(\"y has shape :\", np.shape(y))\n",
    "\n",
    "X=apply_PCA(X=X,n_components=200)\n",
    "print(\" After PCA X has shape :\", np.shape(X))\n",
    "train_model(X,y)"
   ]
  }
 ],
 "metadata": {
  "interpreter": {
   "hash": "a13a7589a368ce90da34e4529cc92ffc3f41fd9a61fbe337f5e93564a5450b7d"
  },
  "kernelspec": {
   "display_name": "Python 3",
   "language": "python",
   "name": "python3"
  },
  "language_info": {
   "codemirror_mode": {
    "name": "ipython",
    "version": 3
   },
   "file_extension": ".py",
   "mimetype": "text/x-python",
   "name": "python",
   "nbconvert_exporter": "python",
   "pygments_lexer": "ipython3",
   "version": "3.8.8"
  }
 },
 "nbformat": 4,
 "nbformat_minor": 2
}
