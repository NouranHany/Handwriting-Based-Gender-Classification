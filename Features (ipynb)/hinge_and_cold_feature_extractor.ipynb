{
 "cells": [
  {
   "cell_type": "code",
   "execution_count": 1,
   "metadata": {},
   "outputs": [],
   "source": [
    "from utilities import *\n",
    "from size_feature_extraction import *\n",
    "from hinge_feature_extraction import *\n",
    "from cold_feature_extraction import *"
   ]
  },
  {
   "cell_type": "code",
   "execution_count": 2,
   "metadata": {},
   "outputs": [],
   "source": [
    "hinge_vectors = []\n",
    "cold_vectors = []\n",
    "size_vectors = []\n",
    "label_names = [] #Which class (male or female)\n",
    "labels = [] #Which image (number of the image)\n"
   ]
  },
  {
   "cell_type": "code",
   "execution_count": 3,
   "metadata": {},
   "outputs": [
    {
     "name": "stderr",
     "output_type": "stream",
     "text": [
      "d:\\Work\\College\\Third_Year\\NN\\Project\\Handwriting-Based-Gender-Classification\\cold_feature_extraction.py:37: RuntimeWarning: divide by zero encountered in log10\n",
      "  rhos_log_space = np.log10(rhos)\n"
     ]
    }
   ],
   "source": [
    "i = 1\n",
    "for filename in os.listdir(\"data/Females\"):\n",
    "    if filename.endswith(\".jpg\"):\n",
    "        img = cv2.imread(\"data/Females/\" + filename)\n",
    "        thresh = threshold_image(img)\n",
    "        contours, _ = cv2.findContours(thresh, cv2.RETR_TREE, cv2.CHAIN_APPROX_NONE)\n",
    "        \n",
    "\n",
    "        hinge_feature = get_hinge_features(contours)\n",
    "        cold_feature = get_cold_features(contours)\n",
    "        size_feature = character_size(contours, thresh)\n",
    "\n",
    "        hinge_vectors.append(hinge_feature)\n",
    "        cold_vectors.append(cold_feature)\n",
    "        size_vectors.append(size_feature)\n",
    "\n",
    "        label_names.append(\"f\")\n",
    "        labels.append(i)\n",
    "\n",
    "        i=i+1\n",
    "        "
   ]
  },
  {
   "cell_type": "code",
   "execution_count": 4,
   "metadata": {},
   "outputs": [],
   "source": [
    "i = 1\n",
    "for filename in os.listdir(\"data/Males\"):\n",
    "    if filename.endswith(\".jpg\"):\n",
    "        img = cv2.imread(\"data/Males/\" + filename)\n",
    "        thresh = threshold_image(img)\n",
    "        contours, _ = cv2.findContours(thresh, cv2.RETR_TREE, cv2.CHAIN_APPROX_NONE)\n",
    "        \n",
    "\n",
    "        hinge_feature = get_hinge_features(contours)\n",
    "        cold_feature = get_cold_features(contours)\n",
    "        size_feature = character_size(contours, thresh)\n",
    "\n",
    "        hinge_vectors.append(hinge_feature)\n",
    "        cold_vectors.append(cold_feature)\n",
    "        size_vectors.append(size_feature)\n",
    "\n",
    "        label_names.append(\"m\")\n",
    "        labels.append(i)\n",
    "\n",
    "        i=i+1\n",
    "        "
   ]
  },
  {
   "cell_type": "markdown",
   "metadata": {},
   "source": [
    "# Reduce Cold with PCA"
   ]
  },
  {
   "cell_type": "code",
   "execution_count": 5,
   "metadata": {},
   "outputs": [],
   "source": [
    "from sklearn import svm\n",
    "from sklearn.model_selection import train_test_split\n",
    "from sklearn import metrics\n",
    "from sklearn.preprocessing import StandardScaler\n",
    "sc = StandardScaler()\n",
    "from sklearn.decomposition import PCA\n",
    " \n"
   ]
  },
  {
   "cell_type": "markdown",
   "metadata": {},
   "source": []
  },
  {
   "cell_type": "code",
   "execution_count": 6,
   "metadata": {},
   "outputs": [],
   "source": [
    "\n",
    "cold_vectors = sc.fit_transform(cold_vectors)\n"
   ]
  },
  {
   "cell_type": "code",
   "execution_count": 7,
   "metadata": {},
   "outputs": [],
   "source": [
    "# Applying PCA function on training\n",
    "# and testing set of X component\n",
    "\n",
    "pca = PCA(n_components = 50)\n",
    " \n",
    "cold_vectors = pca.fit_transform(cold_vectors)\n",
    " \n",
    "explained_variance = pca.explained_variance_ratio_"
   ]
  },
  {
   "cell_type": "code",
   "execution_count": 8,
   "metadata": {},
   "outputs": [
    {
     "name": "stdout",
     "output_type": "stream",
     "text": [
      "(363, 780)\n",
      "(363, 50)\n",
      "(363, 830)\n"
     ]
    }
   ],
   "source": [
    "X = np.concatenate((hinge_vectors, cold_vectors),axis=1)\n",
    "\n",
    "print(f\"({len(hinge_vectors)}, {len(hinge_vectors[0])})\" )\n",
    "print(f\"({len(cold_vectors)}, {len(cold_vectors[0])})\" )\n",
    "print(X.shape)"
   ]
  },
  {
   "cell_type": "code",
   "execution_count": 9,
   "metadata": {},
   "outputs": [],
   "source": [
    "X_train, X_test, y_train, y_test, = train_test_split(X, label_names, test_size=0.33, random_state=45)\n",
    "\n",
    "\n"
   ]
  },
  {
   "cell_type": "code",
   "execution_count": 10,
   "metadata": {},
   "outputs": [
    {
     "name": "stdout",
     "output_type": "stream",
     "text": [
      "Accuracy: 0.75\n"
     ]
    }
   ],
   "source": [
    "clf = svm.SVC(kernel='rbf')\n",
    "\n",
    "clf.fit(X_train, y_train)\n",
    "\n",
    "\n",
    "y_pred = clf.predict(X_test)\n",
    "print(\"Accuracy:\",metrics.accuracy_score(y_test, y_pred))\n"
   ]
  },
  {
   "cell_type": "code",
   "execution_count": null,
   "metadata": {},
   "outputs": [],
   "source": []
  }
 ],
 "metadata": {
  "interpreter": {
   "hash": "79fdc8352940022464368746d67d12dbc9a3740708d0e5e01c2eafb24b507835"
  },
  "kernelspec": {
   "display_name": "Python 3.8.8 ('base')",
   "language": "python",
   "name": "python3"
  },
  "language_info": {
   "codemirror_mode": {
    "name": "ipython",
    "version": 3
   },
   "file_extension": ".py",
   "mimetype": "text/x-python",
   "name": "python",
   "nbconvert_exporter": "python",
   "pygments_lexer": "ipython3",
   "version": "3.8.8"
  },
  "orig_nbformat": 4
 },
 "nbformat": 4,
 "nbformat_minor": 2
}
